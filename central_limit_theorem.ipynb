{
 "cells": [
  {
   "cell_type": "code",
   "execution_count": 24,
   "id": "572104a8",
   "metadata": {},
   "outputs": [],
   "source": [
    "#Importing the libraries\n",
    "import numpy as np\n",
    "import random\n",
    "import pandas as pd\n",
    "import matplotlib.pyplot as plt\n",
    "from sklearn import datasets"
   ]
  },
  {
   "cell_type": "code",
   "execution_count": 25,
   "id": "b531bfdc",
   "metadata": {},
   "outputs": [],
   "source": [
    "##importing the dataset of breast cancer\n",
    "Data=datasets.load_breast_cancer()"
   ]
  },
  {
   "cell_type": "code",
   "execution_count": 26,
   "id": "0861d864",
   "metadata": {},
   "outputs": [],
   "source": [
    "#Turning the dataset into a pandas dataframe\n",
    "df=pd.DataFrame(Data.data, columns=Data.feature_names)"
   ]
  },
  {
   "cell_type": "code",
   "execution_count": 29,
   "id": "4725c751",
   "metadata": {},
   "outputs": [
    {
     "data": {
      "text/plain": [
       "30"
      ]
     },
     "execution_count": 29,
     "metadata": {},
     "output_type": "execute_result"
    }
   ],
   "source": [
    "#Printing some rows of the data frame\n",
    "df.head(4)\n",
    "len(df.columns)"
   ]
  },
  {
   "cell_type": "code",
   "execution_count": 34,
   "id": "61c6486e",
   "metadata": {},
   "outputs": [
    {
     "data": {
      "text/plain": [
       "pandas.core.series.Series"
      ]
     },
     "execution_count": 34,
     "metadata": {},
     "output_type": "execute_result"
    }
   ],
   "source": [
    "#computing the statistics around the column 'mean perimeter'\n",
    "OP=df['mean perimeter']\n",
    "OP.describe()\n",
    "type(OP)"
   ]
  },
  {
   "cell_type": "code",
   "execution_count": 37,
   "id": "6cd07810",
   "metadata": {},
   "outputs": [],
   "source": [
    "#taking the values of the column 'mean perimeter' as an array\n",
    "OriginalP=OP.values\n"
   ]
  },
  {
   "cell_type": "code",
   "execution_count": 42,
   "id": "0631aed6",
   "metadata": {},
   "outputs": [
    {
     "data": {
      "image/png": "[encoded data removed]",
      "text/plain": [
       "<Figure size 432x288 with 1 Axes>"
      ]
     },
     "metadata": {
      "needs_background": "light"
     },
     "output_type": "display_data"
    }
   ],
   "source": [
    "#Plotting the Original population\n",
    "fig, ax=plt.subplots()\n",
    "ax.hist(OriginalP)\n",
    "plt.show()"
   ]
  },
  {
   "cell_type": "code",
   "execution_count": 45,
   "id": "5f1416fc",
   "metadata": {},
   "outputs": [
    {
     "data": {
      "text/plain": [
       "300"
      ]
     },
     "execution_count": 45,
     "metadata": {},
     "output_type": "execute_result"
    }
   ],
   "source": [
    "#Randomly choosing individuals from the original population\n",
    "sdata=300\n",
    "data=[]\n",
    "for i in range(sdata):\n",
    "    data.append(OriginalP[random.randint(0,len(OriginalP)-1)])\n",
    "len(data)"
   ]
  },
  {
   "cell_type": "code",
   "execution_count": 54,
   "id": "51345243",
   "metadata": {},
   "outputs": [
    {
     "data": {
      "text/plain": [
       "200"
      ]
     },
     "execution_count": 54,
     "metadata": {},
     "output_type": "execute_result"
    }
   ],
   "source": [
    "#Resampling from the sampled dataset\n",
    "ngroups=200\n",
    "sgroups=60\n",
    "\n",
    "means=[]\n",
    "for i in range(ngroups):\n",
    "    smallgroups=[]\n",
    "    for j in range(sgroups):\n",
    "        smallgroups.append(data[random.randint(0,len(data)-1)])\n",
    "    means.append(np.mean(smallgroups))\n",
    "    \n",
    "len(means)"
   ]
  },
  {
   "cell_type": "code",
   "execution_count": 55,
   "id": "e0d2c53a",
   "metadata": {},
   "outputs": [
    {
     "name": "stdout",
     "output_type": "stream",
     "text": [
      "The mean value of theoriginal population: 91.96903339191564\n",
      "The mean value of theoriginal population: 91.21250833333333\n"
     ]
    }
   ],
   "source": [
    "#printing out the mean of means and the original population\n",
    "print('The mean value of theoriginal population:',np.mean(OriginalP))\n",
    "print('The mean value of theoriginal population:',np.mean(means))"
   ]
  },
  {
   "cell_type": "code",
   "execution_count": 56,
   "id": "bdc81c2e",
   "metadata": {
    "scrolled": true
   },
   "outputs": [
    {
     "name": "stdout",
     "output_type": "stream",
     "text": [
      "The variance of the original population: 9.823379975640469\n",
      "The variance of the means: 9.938649246319445\n"
     ]
    }
   ],
   "source": [
    "#Printing the variance of the original and the variance of means sequence\n",
    "print('The variance of the original population:',np.var(OriginalP)/sgroups)\n",
    "print('The variance of the means:',np.var(means))"
   ]
  },
  {
   "cell_type": "code",
   "execution_count": 57,
   "id": "4ecdd1a1",
   "metadata": {},
   "outputs": [
    {
     "data": {
      "image/png": "[encoded data removed]",
      "text/plain": [
       "<Figure size 432x288 with 1 Axes>"
      ]
     },
     "metadata": {
      "needs_background": "light"
     },
     "output_type": "display_data"
    }
   ],
   "source": [
    "#Illustration of the means frequency histogram to prove that they come from a normal distribution\n",
    "fig,ax=plt.subplots()\n",
    "\n",
    "ax.hist(means)\n",
    "\n",
    "plt.show()"
   ]
  },
  {
   "cell_type": "code",
   "execution_count": 58,
   "id": "bdf43839",
   "metadata": {},
   "outputs": [],
   "source": [
    "#Generating a larger population\n",
    "OriginalP=np.random.normal(50,50,10000)"
   ]
  },
  {
   "cell_type": "code",
   "execution_count": 63,
   "id": "c0e5d54c",
   "metadata": {},
   "outputs": [
    {
     "data": {
      "text/plain": [
       "3000"
      ]
     },
     "execution_count": 63,
     "metadata": {},
     "output_type": "execute_result"
    }
   ],
   "source": [
    "#sampling from the population\n",
    "sdata=3000\n",
    "data=[]\n",
    "for i in range(sdata):\n",
    "    data.append(OriginalP[random.randint(0,len(OriginalP)-1)])\n",
    "len(data)"
   ]
  },
  {
   "cell_type": "code",
   "execution_count": 68,
   "id": "a196c848",
   "metadata": {},
   "outputs": [
    {
     "data": {
      "text/plain": [
       "1000"
      ]
     },
     "execution_count": 68,
     "metadata": {},
     "output_type": "execute_result"
    }
   ],
   "source": [
    "ngroups=1000\n",
    "sgroups=80\n",
    "\n",
    "means=[]\n",
    "for i in range(ngroups):\n",
    "    smallgroups=[]\n",
    "    for j in range(sgroups):\n",
    "        smallgroups.append(data[random.randint(0,len(data)-1)])\n",
    "    means.append(np.mean(smallgroups))\n",
    "    \n",
    "len(means)"
   ]
  },
  {
   "cell_type": "code",
   "execution_count": 69,
   "id": "245880ae",
   "metadata": {},
   "outputs": [
    {
     "name": "stdout",
     "output_type": "stream",
     "text": [
      "The mean value of theoriginal population: 50.49011555266688\n",
      "The mean value of theoriginal population: 50.04590685074293\n"
     ]
    }
   ],
   "source": [
    "print('The mean value of theoriginal population:',np.mean(OriginalP))\n",
    "print('The mean value of theoriginal population:',np.mean(means))"
   ]
  },
  {
   "cell_type": "code",
   "execution_count": 70,
   "id": "39fb8797",
   "metadata": {},
   "outputs": [
    {
     "name": "stdout",
     "output_type": "stream",
     "text": [
      "The variance of the original population: 30.956189877601712\n",
      "The variance of the means: 31.3415887010893\n"
     ]
    }
   ],
   "source": [
    "print('The variance of the original population:',np.var(OriginalP)/sgroups)\n",
    "print('The variance of the means:',np.var(means))"
   ]
  },
  {
   "cell_type": "code",
   "execution_count": 71,
   "id": "73c6fac9",
   "metadata": {},
   "outputs": [
    {
     "data": {
      "image/png": "[encoded data removed]",
      "text/plain": [
       "<Figure size 432x288 with 1 Axes>"
      ]
     },
     "metadata": {
      "needs_background": "light"
     },
     "output_type": "display_data"
    }
   ],
   "source": [
    "fig,ax=plt.subplots()\n",
    "\n",
    "ax.hist(means)\n",
    "\n",
    "plt.show()"
   ]
  },
  {
   "cell_type": "code",
   "execution_count": null,
   "id": "596ce7e2",
   "metadata": {},
   "outputs": [],
   "source": []
  },
  {
   "cell_type": "code",
   "execution_count": null,
   "id": "4324bb49",
   "metadata": {},
   "outputs": [],
   "source": []
  }
 ],
 "metadata": {
  "kernelspec": {
   "display_name": "Python 3 (ipykernel)",
   "language": "python",
   "name": "python3"
  },
  "language_info": {
   "codemirror_mode": {
    "name": "ipython",
    "version": 3
   },
   "file_extension": ".py",
   "mimetype": "text/x-python",
   "name": "python",
   "nbconvert_exporter": "python",
   "pygments_lexer": "ipython3",
   "version": "3.9.12"
  }
 },
 "nbformat": 4,
 "nbformat_minor": 5
}
